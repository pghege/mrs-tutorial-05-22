{
 "cells": [
  {
   "cell_type": "code",
   "execution_count": 1,
   "id": "1ceee87a-6563-4ad4-b943-2db55886e535",
   "metadata": {},
   "outputs": [
    {
     "name": "stdout",
     "output_type": "stream",
     "text": [
      "Requirement already satisfied: pandas in /opt/conda/lib/python3.9/site-packages (1.4.2)\n",
      "Requirement already satisfied: plotly in /opt/conda/lib/python3.9/site-packages (5.7.0)\n",
      "Requirement already satisfied: kaleido in /opt/conda/lib/python3.9/site-packages (0.2.1)\n",
      "Requirement already satisfied: pytz>=2020.1 in /opt/conda/lib/python3.9/site-packages (from pandas) (2022.1)\n",
      "Requirement already satisfied: python-dateutil>=2.8.1 in /opt/conda/lib/python3.9/site-packages (from pandas) (2.8.2)\n",
      "Requirement already satisfied: numpy>=1.18.5 in /opt/conda/lib/python3.9/site-packages (from pandas) (1.22.3)\n",
      "Requirement already satisfied: tenacity>=6.2.0 in /opt/conda/lib/python3.9/site-packages (from plotly) (8.0.1)\n",
      "Requirement already satisfied: six in /opt/conda/lib/python3.9/site-packages (from plotly) (1.16.0)\n"
     ]
    }
   ],
   "source": [
    "import sys\n",
    "!{sys.executable} -m pip install pandas plotly kaleido"
   ]
  },
  {
   "cell_type": "code",
   "execution_count": 2,
   "id": "650f0dbe-02ef-4af4-b672-d5030e425c68",
   "metadata": {},
   "outputs": [],
   "source": [
    "import json\n",
    "import kaleido\n",
    "import urllib.error\n",
    "import urllib.request\n",
    "import pandas as pd\n",
    "import plotly.express as px\n",
    "import plotly.io as pio\n",
    "from IPython.display import Image\n",
    "import warnings\n",
    "warnings.filterwarnings('ignore')"
   ]
  },
  {
   "cell_type": "code",
   "execution_count": 3,
   "id": "255cf9fa-ceff-4103-b637-bfbd673cd2ec",
   "metadata": {},
   "outputs": [],
   "source": [
    "def line_graph(df, cell_Id):\n",
    "    df['Discharge_Energy (Wh)'] = pd.to_numeric(\n",
    "        df['Discharge_Energy (Wh)'], errors='coerce')\n",
    "    df['Charge_Energy (Wh)'] = pd.to_numeric(\n",
    "        df['Charge_Energy (Wh)'], errors='coerce')\n",
    "    df['Discharge Energy Throughput (Wh)'] = df['Discharge_Energy (Wh)'].cumsum(\n",
    "    )\n",
    "    df['Charge Energy Throughput (Wh)'] = df['Charge_Energy (Wh)'].cumsum()\n",
    "    fig = px.line(df, x='Cycle_Index', y=[\n",
    "        'Discharge Energy Throughput (Wh)', 'Charge Energy Throughput (Wh)'], labels={\n",
    "        'Cycle_Index': 'Cycle'})\n",
    "    fig.update_traces(mode='markers+lines', hovertemplate=None)\n",
    "    filename = 'Energy_throughput_' + cell_Id + '.png'\n",
    "    pio.write_image(fig, file=filename,\n",
    "                    format='png', scale=1, width=1200, height=800)\n",
    "\n"
   ]
  },
  {
   "cell_type": "code",
   "execution_count": 4,
   "id": "16d10d21-af6a-4d2f-99c6-95508e15da76",
   "metadata": {},
   "outputs": [],
   "source": [
    "\n",
    "url_list = ['http://batteryarchivemrstutoriallb-436798068.ap-south-1.elb.amazonaws.com:81/download/cells/cycle_data_json/SNL_18650_NMC_15C_0-100_0.5-1C_a',\n",
    "            'http://batteryarchivemrstutoriallb-436798068.ap-south-1.elb.amazonaws.com:81/download/cells/cycle_data_json/SNL_18650_NMC_25C_0-100_0.5-1C_a',\n",
    "            'http://batteryarchivemrstutoriallb-436798068.ap-south-1.elb.amazonaws.com:81/download/cells/cycle_data_json/SNL_18650_NMC_35C_0-100_0.5-1C_a']\n",
    "\n",
    "cell_ids = ['SNL_18650_NMC_15C_0-100_0.5-1C_a',\n",
    "            'SNL_18650_NMC_25C_0-100_0.5-1C_a',\n",
    "            'SNL_18650_NMC_35C_0-100_0.5-1C_a']\n"
   ]
  },
  {
   "cell_type": "code",
   "execution_count": 5,
   "id": "5996efe8-6e93-43c3-af4b-815fff875648",
   "metadata": {},
   "outputs": [],
   "source": [
    "df = pd.DataFrame()\n",
    "index = 0\n",
    "for url in url_list:\n",
    "    httprequest = urllib.request.Request(\n",
    "        url, method=\"GET\"\n",
    "    )\n",
    "    httprequest.add_header(\"Cookie\", \"userId=pghege@gmail.com\")\n",
    "    status = 0\n",
    "    try:\n",
    "        with urllib.request.urlopen(httprequest) as httpresponse:\n",
    "            response = json.loads(httpresponse.read())\n",
    "            status = 1\n",
    "    except urllib.error.HTTPError as e:\n",
    "        print(e)\n",
    "    df_temp = pd.DataFrame()\n",
    "    if status:\n",
    "        count = 1\n",
    "        for item in response['records']:\n",
    "            item[\"cell_id\"] = cell_ids[index]\n",
    "            df_temp = df_temp.append(pd.DataFrame.from_records([item]))\n",
    "            df = df.append(df_temp)\n",
    "            if count > 499:\n",
    "                break\n",
    "            else:\n",
    "                count += 1\n",
    "        line_graph(df_temp, cell_ids[index])\n",
    "    index += 1\n",
    "df['Discharge_Energy (Wh)'] = pd.to_numeric(\n",
    "    df['Discharge_Energy (Wh)'], errors='coerce')\n",
    "fig = px.histogram(df, x='cell_id', y='Discharge_Energy (Wh)', color='cell_id', labels={\n",
    "    'cell_id': 'Cell', 'Discharge_Energy (Wh)': 'Discharge Energy Throughput, 500 cyc (Wh)'})\n",
    "pio.write_image(fig, file='./Discharge_energy_throughput_histogram.png',\n",
    "                format='png', scale=1, width=1200, height=800)"
   ]
  },
  {
   "cell_type": "code",
   "execution_count": null,
   "id": "c7be2bfa-0283-43bf-b167-473f252579b4",
   "metadata": {},
   "outputs": [],
   "source": [
    "Image(filename='Discharge_energy_throughput_histogram.png') "
   ]
  },
  {
   "cell_type": "code",
   "execution_count": null,
   "id": "7c35612d-2be0-48ce-a8ec-3800c462e6af",
   "metadata": {},
   "outputs": [],
   "source": []
  }
 ],
 "metadata": {
  "kernelspec": {
   "display_name": "Python 3 (ipykernel)",
   "language": "python",
   "name": "python3"
  },
  "language_info": {
   "codemirror_mode": {
    "name": "ipython",
    "version": 3
   },
   "file_extension": ".py",
   "mimetype": "text/x-python",
   "name": "python",
   "nbconvert_exporter": "python",
   "pygments_lexer": "ipython3",
   "version": "3.9.10"
  }
 },
 "nbformat": 4,
 "nbformat_minor": 5
}
